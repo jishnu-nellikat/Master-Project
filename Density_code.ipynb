{
  "nbformat": 4,
  "nbformat_minor": 0,
  "metadata": {
    "colab": {
      "provenance": []
    },
    "kernelspec": {
      "name": "python3",
      "display_name": "Python 3"
    },
    "language_info": {
      "name": "python"
    }
  },
  "cells": [
    {
      "cell_type": "code",
      "execution_count": 4,
      "metadata": {
        "colab": {
          "base_uri": "https://localhost:8080/"
        },
        "id": "9rOs2dSvHQw-",
        "outputId": "65d2b010-16ac-4bd9-dba4-b8a22fd67f80"
      },
      "outputs": [
        {
          "name": "stdout",
          "output_type": "stream",
          "text": [
            "Enter atomic number :12\n",
            "Enter No of Timestamps to display :10\n"
          ]
        },
        {
          "output_type": "stream",
          "name": "stderr",
          "text": [
            "100%|██████████| 10/10 [00:08<00:00,  1.15it/s]\n",
            "100%|██████████| 10/10 [00:08<00:00,  1.25it/s]"
          ]
        },
        {
          "output_type": "stream",
          "name": "stdout",
          "text": [
            "15fm/c    0.310634\n",
            "dtype: float64\n"
          ]
        },
        {
          "output_type": "stream",
          "name": "stderr",
          "text": [
            "\n"
          ]
        }
      ],
      "source": [
        "# -*- coding: utf-8 -*-\n",
        "\"\"\"\n",
        "Created on Fri Apr  1 11:15:39 2022\n",
        "\n",
        "@author: Jishnu N\n",
        "\"\"\"\n",
        "\n",
        "# IMPORTING REQUIRED LIBRARIES\n",
        "\n",
        "import pandas as pd\n",
        "import numpy as np\n",
        "from tqdm import tqdm\n",
        "from time import sleep\n",
        "\n",
        "# READING INPUT FILE\n",
        "\n",
        "data = pd.read_csv(r'ca_10run_0en.out')\n",
        "df = pd.DataFrame(data)\n",
        "\n",
        "# code for BLACKLISTING certain rows from data if needed\n",
        "\n",
        "# blacklist = [120]\n",
        "# ix=[i for i in df.index if i not in blacklist]\n",
        "# df_select=df.loc[ix]\n",
        "# df_select.dropna(inplace = True)\n",
        "\n",
        "\n",
        "#gfg = pd.DataFrame(df.head(10000000))  # just gave random value to read all rows\n",
        "df.to_csv('blah.csv')  # converting to csv file\n",
        "\n",
        "# changing the FORMATTING of input file into new file (no change in data)\n",
        "\n",
        "raw = []\n",
        "with open('blah.csv', 'r') as f:\n",
        "    for line in f:\n",
        "        raw.append(line.split())\n",
        "data1 = pd.DataFrame(raw)\n",
        "data_ind = data1.set_index\n",
        "data1.columns = ['S_no', 'x', 'y', 'z', 'Px', 'Py', 'Pz', 'mass', 'particle_index', 'collision_no']\n",
        "data1_cols = data1[['x', 'y', 'z', 'Px', 'Py', 'Pz']]\n",
        "\n",
        "data1_cols = data1_cols.astype(float)\n",
        "no = int(input(\"Enter atomic number :\"))\n",
        "t = int(input(\"Enter No of Timestamps to display :\"))  # No. of timeintervals to display\n",
        "z = 4\n",
        "\n",
        "# selecting desired data from whole data and storing it in 'array'\n",
        "u = []\n",
        "\n",
        "for index in tqdm(range(t)):\n",
        "\n",
        "    for row_series in data1_cols.iterrows():\n",
        "        x2 = z\n",
        "        y2 = x2 + no\n",
        "        data1_main = data1_cols.iloc[x2:y2]\n",
        "        data1_main = data1_main.astype(float)\n",
        "\n",
        "    u.append(data1_main)\n",
        "    z = z + (no + 2)\n",
        "    sleep(0.8)\n",
        "\n",
        "array = np.asarray(u, dtype=float, order=None)\n",
        "# print(array)\n",
        "\n",
        "\n",
        "dff = pd.DataFrame(array.reshape(-1, 6))  # changing array into pandas dataframe for ease of working\n",
        "dff.columns = ['x2', 'y2', 'z2', 'Px2', 'Py2', 'Pz2']\n",
        "\n",
        "x1 = dff['x2']\n",
        "y1 = dff['y2']\n",
        "z1 = dff['z2']\n",
        "array1 = np.column_stack((x1, y1, z1))\n",
        "# print(array1)\n",
        "# 'array1' contains whole set of position cordinates of nucleons\n",
        "\n",
        "\n",
        "# WRITING DENSITY EQUATION\n",
        "\n",
        "p = []\n",
        "m = 0\n",
        "for index in tqdm(range(t)):\n",
        "    row1 = array1[m:(m + no), :]\n",
        "    # print(row1)\n",
        "    x3 = row1[:, 0]\n",
        "    y3 = row1[:, 1]\n",
        "    z3 = row1[:, 2]\n",
        "\n",
        "    # vector = np.vectorize(float)\n",
        "    mag = np.sqrt((x3 ** 2) + (y3 ** 2) + (z3 ** 2))\n",
        "    # mag = vector(mag)\n",
        "    # print(mag)\n",
        "    sig = 0.99\n",
        "\n",
        "    r = 0\n",
        "\n",
        "    rho = np.exp(-(((r - mag) ** 2) / (2 * sig)))\n",
        "    # print(rho)\n",
        "\n",
        "    # RHO TRIM CODE\n",
        "    # f=[]\n",
        "\n",
        "    # for element in rho:\n",
        "    #     if element < 0.29882:\n",
        "    #         z.append(element)\n",
        "    # rhotrim = np.asarray(f, dtype = float, order = None)\n",
        "\n",
        "    const = (1 / (2 * (np.pi) * sig)) ** 1.5\n",
        "\n",
        "    meandensity = (const * rho) / 0.17\n",
        "    # print(meandensity)\n",
        "\n",
        "    totalmd = sum(meandensity)\n",
        "    # print(totalmd)\n",
        "\n",
        "    p.append(totalmd)\n",
        "\n",
        "    sleep(0.8)\n",
        "    m = m + (no)\n",
        "ni100arr = np.asarray(p, dtype=float, order=None)\n",
        "\n",
        "ni100 = pd.DataFrame(ni100arr.reshape(-1, 1))\n",
        "ni100.columns = ['15fm/c']\n",
        "cols100 = ['15fm/c']\n",
        "meen = ni100[cols100].mean()\n",
        "print(meen)\n",
        "\n",
        "with open('impau10.txt', 'w') as k:\n",
        "    print(meen, file=k)\n"
      ]
    }
  ]
}